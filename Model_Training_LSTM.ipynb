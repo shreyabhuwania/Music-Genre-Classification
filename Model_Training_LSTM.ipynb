{
  "nbformat": 4,
  "nbformat_minor": 0,
  "metadata": {
    "colab": {
      "provenance": [],
      "include_colab_link": true
    },
    "kernelspec": {
      "name": "python3",
      "display_name": "Python 3"
    },
    "language_info": {
      "name": "python"
    },
    "accelerator": "GPU",
    "gpuClass": "standard"
  },
  "cells": [
    {
      "cell_type": "markdown",
      "metadata": {
        "id": "view-in-github",
        "colab_type": "text"
      },
      "source": [
        "<a href=\"https://colab.research.google.com/github/shreyabhuwania/Music-Genre-Classification/blob/main/Model_Training_LSTM.ipynb\" target=\"_parent\"><img src=\"https://colab.research.google.com/assets/colab-badge.svg\" alt=\"Open In Colab\"/></a>"
      ]
    },
    {
      "cell_type": "code",
      "execution_count": null,
      "metadata": {
        "id": "LvYHBH3jxDPr"
      },
      "outputs": [],
      "source": [
        "import json\n",
        "import numpy as np\n",
        "from sklearn.model_selection import train_test_split\n",
        "import keras\n",
        "import matplotlib.pyplot as plt\n",
        "import random\n",
        "import librosa\n",
        "import math"
      ]
    },
    {
      "cell_type": "code",
      "source": [
        "def load_data(data_path):\n",
        "\n",
        "    with open(data_path, \"r\") as f:\n",
        "        data = json.load(f)\n",
        "\n",
        "    # convert lists to numpy arrays\n",
        "    X = np.array(data[\"mfcc\"])\n",
        "    y = np.array(data[\"labels\"])\n",
        "    mapping = data[\"mapping\"]\n",
        "\n",
        "    print(\"Data succesfully loaded!\")\n",
        "\n",
        "    return  X, y, mapping\n",
        ""
      ],
      "metadata": {
        "id": "PhlXiyZ7xMsS"
      },
      "execution_count": null,
      "outputs": []
    },
    {
      "cell_type": "code",
      "source": [
        "# path to json\n",
        "DATA_PATH = \"/content/drive/MyDrive/Music_Genre_Dataset/mfcc_data.json\"\n",
        "\n",
        "# load data\n",
        "X, y, mapping = load_data(DATA_PATH)"
      ],
      "metadata": {
        "id": "oZDa31TAxvNb",
        "colab": {
          "base_uri": "https://localhost:8080/"
        },
        "outputId": "d6ff7949-4285-4822-c557-166a2901e757"
      },
      "execution_count": null,
      "outputs": [
        {
          "output_type": "stream",
          "name": "stdout",
          "text": [
            "Data succesfully loaded!\n"
          ]
        }
      ]
    },
    {
      "cell_type": "code",
      "source": [
        "X.shape"
      ],
      "metadata": {
        "id": "yMxoIDhCx2e1",
        "colab": {
          "base_uri": "https://localhost:8080/"
        },
        "outputId": "bce0c1d8-e648-47e4-aac1-91d0573a2f7c"
      },
      "execution_count": null,
      "outputs": [
        {
          "output_type": "execute_result",
          "data": {
            "text/plain": [
              "(9986, 130, 13)"
            ]
          },
          "metadata": {},
          "execution_count": 5
        }
      ]
    },
    {
      "cell_type": "code",
      "source": [
        "y.shape"
      ],
      "metadata": {
        "colab": {
          "base_uri": "https://localhost:8080/"
        },
        "id": "Czcr-WMVVy0a",
        "outputId": "3b407c17-7304-4484-8b9d-143e7e4a813f"
      },
      "execution_count": null,
      "outputs": [
        {
          "output_type": "execute_result",
          "data": {
            "text/plain": [
              "(9986,)"
            ]
          },
          "metadata": {},
          "execution_count": 6
        }
      ]
    },
    {
      "cell_type": "code",
      "source": [
        "mapping"
      ],
      "metadata": {
        "colab": {
          "base_uri": "https://localhost:8080/"
        },
        "id": "POQ7rY8gV1Nq",
        "outputId": "03a5d02b-318d-4380-cf59-833ac85512d7"
      },
      "execution_count": null,
      "outputs": [
        {
          "output_type": "execute_result",
          "data": {
            "text/plain": [
              "['reggae',\n",
              " 'disco',\n",
              " 'jazz',\n",
              " '.ipynb_checkpoints',\n",
              " 'rock',\n",
              " 'classical',\n",
              " 'hiphop',\n",
              " 'blues',\n",
              " 'pop',\n",
              " 'country',\n",
              " 'metal']"
            ]
          },
          "metadata": {},
          "execution_count": 7
        }
      ]
    },
    {
      "cell_type": "code",
      "source": [
        "def plot_history(history):\n",
        "\n",
        "    fig, axs = plt.subplots(2)\n",
        "\n",
        "    # create accuracy sublpot\n",
        "    axs[0].plot(history.history[\"accuracy\"], label=\"train accuracy\")\n",
        "    axs[0].plot(history.history[\"val_accuracy\"], label=\"test accuracy\")\n",
        "    axs[0].set_ylabel(\"Accuracy\")\n",
        "    axs[0].legend(loc=\"lower right\")\n",
        "    axs[0].set_title(\"Accuracy eval\")\n",
        "\n",
        "    # create error sublpot\n",
        "    axs[1].plot(history.history[\"loss\"], label=\"train error\")\n",
        "    axs[1].plot(history.history[\"val_loss\"], label=\"test error\")\n",
        "    axs[1].set_ylabel(\"Error\")\n",
        "    axs[1].set_xlabel(\"Epoch\")\n",
        "    axs[1].legend(loc=\"upper right\")\n",
        "    axs[1].set_title(\"Error eval\")\n",
        "\n",
        "    plt.show()\n",
        ""
      ],
      "metadata": {
        "id": "YP8hI-6tyDnI"
      },
      "execution_count": null,
      "outputs": []
    },
    {
      "cell_type": "code",
      "source": [
        "# create train, validation and test split\n",
        "X_train, X_test, y_train, y_test = train_test_split(X, y, test_size=0.25, random_state = 10)\n",
        "X_train, X_validation, y_train, y_validation = train_test_split(X_train, y_train, test_size=0.2)\n",
        "\n",
        "# add an axis to input sets\n",
        "X_train = X_train[..., np.newaxis]\n",
        "X_validation = X_validation[..., np.newaxis]\n",
        "X_test = X_test[..., np.newaxis]\n",
        "\n",
        "\n",
        "X_train.shape"
      ],
      "metadata": {
        "id": "-BFZSjmyyEaH",
        "colab": {
          "base_uri": "https://localhost:8080/"
        },
        "outputId": "5ccfb53c-0bee-4bb5-adee-8f8fa659c353"
      },
      "execution_count": null,
      "outputs": [
        {
          "output_type": "execute_result",
          "data": {
            "text/plain": [
              "(5991, 130, 13, 1)"
            ]
          },
          "metadata": {},
          "execution_count": 9
        }
      ]
    },
    {
      "cell_type": "code",
      "source": [
        "input_shape = (X_train.shape[1], X_train.shape[2])\n",
        "#input_shape_cnn = (X_train.shape[2], 1)\n",
        "\"\"\"\n",
        "# build the CNN\n",
        "model_cnn = keras.Sequential()\n",
        "\n",
        "# 1st conv layer\n",
        "model_cnn.add(keras.layers.Conv2D(32, (3, 3), activation='relu', use_bias = True, input_shape=input_shape_cnn))\n",
        "model_cnn.add(keras.layers.MaxPooling2D((2, 2), strides=(1, 1), padding='same'))\n",
        "#model_cnn.add(keras.layers.BatchNormalization())\n",
        "\n",
        "# 2nd conv layer\n",
        "model_cnn.add(keras.layers.Conv2D(32, (3, 3), activation='relu', use_bias = True))\n",
        "model_cnn.add(keras.layers.MaxPooling2D((2, 2), strides=(1, 1), padding='same'))\n",
        "#model_cnn.add(keras.layers.BatchNormalization())\n",
        "\n",
        "# 3rd conv layer\n",
        "model_cnn.add(keras.layers.Conv2D(32, (2, 2), activation='relu', use_bias = True))\n",
        "model_cnn.add(keras.layers.MaxPooling2D((2, 2), strides=(2, 2), padding='same'))\n",
        "#model_cnn.add(keras.layers.BatchNormalization())\n",
        "\n",
        "\n",
        "\n",
        "# flatten output and feed it into dense layer\n",
        "model_cnn.add(keras.layers.Flatten())\n",
        "\"\"\"\n",
        "\n",
        "model = keras.Sequential()\n",
        "#model.add(keras.layers.TimeDistributed(model_cnn, input_shape=input_shape))\n",
        "model.add(keras.layers.LSTM(64, input_shape=input_shape, return_sequences = True))\n",
        "model.add(keras.layers.LSTM(128))\n",
        "model.add(keras.layers.Dense(32, activation='relu'))\n",
        "model.add(keras.layers.Dropout(0.2))\n",
        "model.add(keras.layers.Dense(32, activation='relu'))\n",
        "model.add(keras.layers.Dropout(0.2))\n",
        "\n",
        "\n",
        "# output layer\n",
        "model.add(keras.layers.Dense(12, activation='softmax'))\n",
        "\n",
        "\n",
        "\n",
        "\n",
        "# compile model\n",
        "opt = keras.optimizers.Adam(learning_rate=0.001)\n",
        "opt1 = keras.optimizers.RMSprop()\n",
        "model.compile(optimizer=opt,\n",
        "              loss='sparse_categorical_crossentropy',\n",
        "              metrics=['accuracy'])\n",
        "\n",
        "\n",
        "#model.build(input_shape)\n",
        "model.summary()"
      ],
      "metadata": {
        "id": "ltJKdGOsyK9g",
        "colab": {
          "base_uri": "https://localhost:8080/"
        },
        "outputId": "fd4d932b-5910-4c19-ddd1-884637218b6a"
      },
      "execution_count": null,
      "outputs": [
        {
          "output_type": "stream",
          "name": "stdout",
          "text": [
            "Model: \"sequential_5\"\n",
            "_________________________________________________________________\n",
            " Layer (type)                Output Shape              Param #   \n",
            "=================================================================\n",
            " lstm_10 (LSTM)              (None, 130, 64)           19968     \n",
            "                                                                 \n",
            " lstm_11 (LSTM)              (None, 128)               98816     \n",
            "                                                                 \n",
            " dense_12 (Dense)            (None, 32)                4128      \n",
            "                                                                 \n",
            " dropout_1 (Dropout)         (None, 32)                0         \n",
            "                                                                 \n",
            " dense_13 (Dense)            (None, 32)                1056      \n",
            "                                                                 \n",
            " dropout_2 (Dropout)         (None, 32)                0         \n",
            "                                                                 \n",
            " dense_14 (Dense)            (None, 12)                396       \n",
            "                                                                 \n",
            "=================================================================\n",
            "Total params: 124,364\n",
            "Trainable params: 124,364\n",
            "Non-trainable params: 0\n",
            "_________________________________________________________________\n"
          ]
        }
      ]
    },
    {
      "cell_type": "code",
      "source": [
        "# train model\n",
        "history = model.fit(X_train, y_train, validation_data=(X_validation, y_validation), batch_size=32, epochs=50)"
      ],
      "metadata": {
        "id": "z0b5CjFMyPWq",
        "colab": {
          "base_uri": "https://localhost:8080/"
        },
        "outputId": "b07a5c9c-7cce-46ad-86f7-5483c48e23c7"
      },
      "execution_count": null,
      "outputs": [
        {
          "output_type": "stream",
          "name": "stdout",
          "text": [
            "Epoch 1/50\n",
            "188/188 [==============================] - 7s 25ms/step - loss: 1.9697 - accuracy: 0.3101 - val_loss: 1.6453 - val_accuracy: 0.4099\n",
            "Epoch 2/50\n",
            "188/188 [==============================] - 3s 14ms/step - loss: 1.6394 - accuracy: 0.4163 - val_loss: 1.4753 - val_accuracy: 0.4746\n",
            "Epoch 3/50\n",
            "188/188 [==============================] - 3s 14ms/step - loss: 1.5177 - accuracy: 0.4635 - val_loss: 1.3783 - val_accuracy: 0.4953\n",
            "Epoch 4/50\n",
            "188/188 [==============================] - 3s 14ms/step - loss: 1.4336 - accuracy: 0.4976 - val_loss: 1.3788 - val_accuracy: 0.5134\n",
            "Epoch 5/50\n",
            "188/188 [==============================] - 3s 17ms/step - loss: 1.3725 - accuracy: 0.5216 - val_loss: 1.3212 - val_accuracy: 0.5274\n",
            "Epoch 6/50\n",
            "188/188 [==============================] - 4s 19ms/step - loss: 1.3013 - accuracy: 0.5465 - val_loss: 1.2220 - val_accuracy: 0.5634\n",
            "Epoch 7/50\n",
            "188/188 [==============================] - 3s 14ms/step - loss: 1.2729 - accuracy: 0.5548 - val_loss: 1.2378 - val_accuracy: 0.5501\n",
            "Epoch 8/50\n",
            "188/188 [==============================] - 3s 14ms/step - loss: 1.2095 - accuracy: 0.5924 - val_loss: 1.1656 - val_accuracy: 0.5915\n",
            "Epoch 9/50\n",
            "188/188 [==============================] - 3s 14ms/step - loss: 1.1636 - accuracy: 0.6009 - val_loss: 1.1645 - val_accuracy: 0.5761\n",
            "Epoch 10/50\n",
            "188/188 [==============================] - 3s 17ms/step - loss: 1.1044 - accuracy: 0.6224 - val_loss: 1.0751 - val_accuracy: 0.6242\n",
            "Epoch 11/50\n",
            "188/188 [==============================] - 3s 17ms/step - loss: 1.0597 - accuracy: 0.6398 - val_loss: 1.1343 - val_accuracy: 0.5968\n",
            "Epoch 12/50\n",
            "188/188 [==============================] - 3s 14ms/step - loss: 1.0237 - accuracy: 0.6513 - val_loss: 1.0302 - val_accuracy: 0.6348\n",
            "Epoch 13/50\n",
            "188/188 [==============================] - 3s 14ms/step - loss: 0.9798 - accuracy: 0.6753 - val_loss: 1.0220 - val_accuracy: 0.6449\n",
            "Epoch 14/50\n",
            "188/188 [==============================] - 3s 14ms/step - loss: 0.9165 - accuracy: 0.6935 - val_loss: 0.9917 - val_accuracy: 0.6469\n",
            "Epoch 15/50\n",
            "188/188 [==============================] - 3s 18ms/step - loss: 0.9026 - accuracy: 0.6922 - val_loss: 0.9183 - val_accuracy: 0.6883\n",
            "Epoch 16/50\n",
            "188/188 [==============================] - 3s 17ms/step - loss: 0.8585 - accuracy: 0.7144 - val_loss: 0.9459 - val_accuracy: 0.6782\n",
            "Epoch 17/50\n",
            "188/188 [==============================] - 3s 14ms/step - loss: 0.8232 - accuracy: 0.7254 - val_loss: 0.9400 - val_accuracy: 0.6956\n",
            "Epoch 18/50\n",
            "188/188 [==============================] - 3s 14ms/step - loss: 0.7904 - accuracy: 0.7403 - val_loss: 1.0315 - val_accuracy: 0.6762\n",
            "Epoch 19/50\n",
            "188/188 [==============================] - 3s 14ms/step - loss: 0.7691 - accuracy: 0.7445 - val_loss: 0.9693 - val_accuracy: 0.6869\n",
            "Epoch 20/50\n",
            "188/188 [==============================] - 4s 20ms/step - loss: 0.7119 - accuracy: 0.7600 - val_loss: 0.9729 - val_accuracy: 0.6729\n",
            "Epoch 21/50\n",
            "188/188 [==============================] - 3s 14ms/step - loss: 0.7086 - accuracy: 0.7713 - val_loss: 0.8935 - val_accuracy: 0.7069\n",
            "Epoch 22/50\n",
            "188/188 [==============================] - 3s 14ms/step - loss: 0.6913 - accuracy: 0.7663 - val_loss: 0.8735 - val_accuracy: 0.7156\n",
            "Epoch 23/50\n",
            "188/188 [==============================] - 3s 14ms/step - loss: 0.6574 - accuracy: 0.7833 - val_loss: 0.8823 - val_accuracy: 0.7176\n",
            "Epoch 24/50\n",
            "188/188 [==============================] - 3s 14ms/step - loss: 0.6130 - accuracy: 0.7955 - val_loss: 0.9142 - val_accuracy: 0.7150\n",
            "Epoch 25/50\n",
            "188/188 [==============================] - 4s 22ms/step - loss: 0.6179 - accuracy: 0.7985 - val_loss: 0.8710 - val_accuracy: 0.7196\n",
            "Epoch 26/50\n",
            "188/188 [==============================] - 3s 14ms/step - loss: 0.5770 - accuracy: 0.8064 - val_loss: 0.9484 - val_accuracy: 0.7123\n",
            "Epoch 27/50\n",
            "188/188 [==============================] - 3s 14ms/step - loss: 0.5708 - accuracy: 0.8194 - val_loss: 0.8836 - val_accuracy: 0.7343\n",
            "Epoch 28/50\n",
            "188/188 [==============================] - 3s 14ms/step - loss: 0.5431 - accuracy: 0.8207 - val_loss: 0.9666 - val_accuracy: 0.7003\n",
            "Epoch 29/50\n",
            "188/188 [==============================] - 3s 16ms/step - loss: 0.4989 - accuracy: 0.8348 - val_loss: 0.8879 - val_accuracy: 0.7330\n",
            "Epoch 30/50\n",
            "188/188 [==============================] - 3s 18ms/step - loss: 0.5083 - accuracy: 0.8373 - val_loss: 0.9456 - val_accuracy: 0.7370\n",
            "Epoch 31/50\n",
            "188/188 [==============================] - 3s 14ms/step - loss: 0.4668 - accuracy: 0.8521 - val_loss: 0.9215 - val_accuracy: 0.7403\n",
            "Epoch 32/50\n",
            "188/188 [==============================] - 3s 14ms/step - loss: 0.4694 - accuracy: 0.8449 - val_loss: 0.9063 - val_accuracy: 0.7316\n",
            "Epoch 33/50\n",
            "188/188 [==============================] - 3s 14ms/step - loss: 0.4241 - accuracy: 0.8675 - val_loss: 0.9706 - val_accuracy: 0.7410\n",
            "Epoch 34/50\n",
            "188/188 [==============================] - 3s 18ms/step - loss: 0.4601 - accuracy: 0.8528 - val_loss: 0.9238 - val_accuracy: 0.7523\n",
            "Epoch 35/50\n",
            "188/188 [==============================] - 3s 17ms/step - loss: 0.4832 - accuracy: 0.8449 - val_loss: 0.8299 - val_accuracy: 0.7537\n",
            "Epoch 36/50\n",
            "188/188 [==============================] - 3s 14ms/step - loss: 0.3967 - accuracy: 0.8748 - val_loss: 0.8453 - val_accuracy: 0.7457\n",
            "Epoch 37/50\n",
            "188/188 [==============================] - 3s 14ms/step - loss: 0.4389 - accuracy: 0.8670 - val_loss: 0.8809 - val_accuracy: 0.7430\n",
            "Epoch 38/50\n",
            "188/188 [==============================] - 3s 14ms/step - loss: 0.4058 - accuracy: 0.8760 - val_loss: 0.8740 - val_accuracy: 0.7583\n",
            "Epoch 39/50\n",
            "188/188 [==============================] - 4s 19ms/step - loss: 0.3658 - accuracy: 0.8800 - val_loss: 0.8393 - val_accuracy: 0.7704\n",
            "Epoch 40/50\n",
            "188/188 [==============================] - 3s 16ms/step - loss: 0.3449 - accuracy: 0.8875 - val_loss: 0.9389 - val_accuracy: 0.7410\n",
            "Epoch 41/50\n",
            "188/188 [==============================] - 3s 14ms/step - loss: 0.3298 - accuracy: 0.8928 - val_loss: 0.9292 - val_accuracy: 0.7617\n",
            "Epoch 42/50\n",
            "188/188 [==============================] - 3s 14ms/step - loss: 0.3242 - accuracy: 0.8947 - val_loss: 0.9384 - val_accuracy: 0.7603\n",
            "Epoch 43/50\n",
            "188/188 [==============================] - 3s 14ms/step - loss: 0.3240 - accuracy: 0.8987 - val_loss: 0.8838 - val_accuracy: 0.7650\n",
            "Epoch 44/50\n",
            "188/188 [==============================] - 4s 21ms/step - loss: 0.3260 - accuracy: 0.9009 - val_loss: 0.9449 - val_accuracy: 0.7690\n",
            "Epoch 45/50\n",
            "188/188 [==============================] - 3s 15ms/step - loss: 0.2712 - accuracy: 0.9149 - val_loss: 0.8817 - val_accuracy: 0.7690\n",
            "Epoch 46/50\n",
            "188/188 [==============================] - 3s 15ms/step - loss: 0.2715 - accuracy: 0.9102 - val_loss: 0.9614 - val_accuracy: 0.7724\n",
            "Epoch 47/50\n",
            "188/188 [==============================] - 3s 14ms/step - loss: 0.2856 - accuracy: 0.9127 - val_loss: 0.8960 - val_accuracy: 0.7770\n",
            "Epoch 48/50\n",
            "188/188 [==============================] - 3s 17ms/step - loss: 0.2830 - accuracy: 0.9115 - val_loss: 0.9546 - val_accuracy: 0.7817\n",
            "Epoch 49/50\n",
            "188/188 [==============================] - 3s 18ms/step - loss: 0.2362 - accuracy: 0.9277 - val_loss: 0.8930 - val_accuracy: 0.7717\n",
            "Epoch 50/50\n",
            "188/188 [==============================] - 3s 14ms/step - loss: 0.3051 - accuracy: 0.9082 - val_loss: 0.9470 - val_accuracy: 0.7623\n"
          ]
        }
      ]
    },
    {
      "cell_type": "code",
      "source": [
        "# plot accuracy and error as a function of the epochs\n",
        "plot_history(history)"
      ],
      "metadata": {
        "id": "cyX86JwlySCg",
        "colab": {
          "base_uri": "https://localhost:8080/",
          "height": 295
        },
        "outputId": "368bcdeb-c683-418b-b1c8-ae68973f520e"
      },
      "execution_count": null,
      "outputs": [
        {
          "output_type": "display_data",
          "data": {
            "text/plain": [
              "<Figure size 432x288 with 2 Axes>"
            ],
            "image/png": "[encoded data removed]"
          },
          "metadata": {
            "needs_background": "light"
          }
        }
      ]
    },
    {
      "cell_type": "code",
      "source": [
        "# evaluate model on Test Set\n",
        "test_loss, test_acc = model.evaluate(X_test, y_test, verbose=2)\n",
        "print('\\nTest accuracy:', test_acc)"
      ],
      "metadata": {
        "id": "w1vq2hz_yStT",
        "colab": {
          "base_uri": "https://localhost:8080/"
        },
        "outputId": "3f328e2e-1a01-4b22-96a8-d95e428e6b12"
      },
      "execution_count": null,
      "outputs": [
        {
          "output_type": "stream",
          "name": "stdout",
          "text": [
            "79/79 - 1s - loss: 1.0900 - accuracy: 0.7817 - 564ms/epoch - 7ms/step\n",
            "\n",
            "Test accuracy: 0.7817381024360657\n"
          ]
        }
      ]
    },
    {
      "cell_type": "code",
      "source": [
        "model.save(\"/content/drive/MyDrive/Music_Genre_Dataset/Music_Genre_LSTM\")"
      ],
      "metadata": {
        "colab": {
          "base_uri": "https://localhost:8080/"
        },
        "id": "T3cp-GHnw8ks",
        "outputId": "09e7b9ec-5a58-4ecb-8d6e-b8152e7740b7"
      },
      "execution_count": null,
      "outputs": [
        {
          "output_type": "stream",
          "name": "stderr",
          "text": [
            "WARNING:absl:Found untraced functions such as lstm_cell_4_layer_call_fn, lstm_cell_4_layer_call_and_return_conditional_losses, lstm_cell_5_layer_call_fn, lstm_cell_5_layer_call_and_return_conditional_losses while saving (showing 4 of 4). These functions will not be directly callable after loading.\n"
          ]
        }
      ]
    },
    {
      "cell_type": "code",
      "source": [
        "model.save(\"/content/drive/MyDrive/Music_Genre_Dataset/Music_Genre_LSTM.h5\")"
      ],
      "metadata": {
        "id": "5lfGGWzWw6Wz"
      },
      "execution_count": null,
      "outputs": []
    },
    {
      "cell_type": "code",
      "source": [
        "model = keras.models.load_model(\"/content/drive/MyDrive/Music_Genre_Dataset/Music_Genre_LSTM.h5\")"
      ],
      "metadata": {
        "id": "AupkpQVvEsqo"
      },
      "execution_count": null,
      "outputs": []
    },
    {
      "cell_type": "code",
      "source": [
        "score = model.evaluate(X_test, y_test, verbose = 0)\n",
        "\n",
        "print('Test loss:', score[0])\n",
        "print('Test accuracy:', score[1])"
      ],
      "metadata": {
        "id": "FGpBLHFkGJH1",
        "outputId": "60af2555-f04a-40c8-c872-2f357683c609",
        "colab": {
          "base_uri": "https://localhost:8080/"
        }
      },
      "execution_count": null,
      "outputs": [
        {
          "output_type": "stream",
          "name": "stdout",
          "text": [
            "Test loss: 0.9284936785697937\n",
            "Test accuracy: 0.7857428789138794\n"
          ]
        }
      ]
    },
    {
      "cell_type": "code",
      "source": [
        "score"
      ],
      "metadata": {
        "id": "PyOS0XXXG-3q",
        "outputId": "b0972971-ed45-42cf-9251-d1be9f827177",
        "colab": {
          "base_uri": "https://localhost:8080/"
        }
      },
      "execution_count": null,
      "outputs": [
        {
          "output_type": "execute_result",
          "data": {
            "text/plain": [
              "[0.9284936785697937, 0.7857428789138794]"
            ]
          },
          "metadata": {},
          "execution_count": 12
        }
      ]
    },
    {
      "cell_type": "code",
      "source": [
        "y_pred = []\n",
        "\n",
        "for a in X_test:\n",
        "\n",
        "  x_to_test = a[np.newaxis, ...]\n",
        "  prediction = model.predict(x_to_test, verbose = 0)\n",
        "\n",
        "  # get index with max value\n",
        "  predicted_index = np.argmax(prediction, axis=1)\n",
        "  y_hat = int(predicted_index)\n",
        "  y_pred.append(y_hat)\n",
        "  print(a)\n"
      ],
      "metadata": {
        "id": "8VvO9WGeJxTE"
      },
      "execution_count": null,
      "outputs": []
    },
    {
      "cell_type": "code",
      "source": [
        "temp = np.array(y_pred)"
      ],
      "metadata": {
        "id": "Pzk9ChpWLA8O"
      },
      "execution_count": null,
      "outputs": []
    },
    {
      "cell_type": "code",
      "source": [
        "y_pred = temp"
      ],
      "metadata": {
        "id": "QXAH1kQPLG2l"
      },
      "execution_count": null,
      "outputs": []
    },
    {
      "cell_type": "code",
      "source": [
        "keras.metrics.categorical_accuracy(y_test, y_pred)"
      ],
      "metadata": {
        "id": "qgVDr4PbIIxf",
        "outputId": "4361d37a-e9ba-49f2-e810-0ea44e11fe45",
        "colab": {
          "base_uri": "https://localhost:8080/"
        }
      },
      "execution_count": null,
      "outputs": [
        {
          "output_type": "execute_result",
          "data": {
            "text/plain": [
              "<tf.Tensor: shape=(), dtype=float32, numpy=1.0>"
            ]
          },
          "metadata": {},
          "execution_count": 16
        }
      ]
    },
    {
      "cell_type": "code",
      "source": [
        "import sklearn"
      ],
      "metadata": {
        "id": "qtcnG_D3MPf1"
      },
      "execution_count": null,
      "outputs": []
    },
    {
      "cell_type": "code",
      "source": [
        "correct = 0\n",
        "for a, b in zip(y_test, y_pred):\n",
        "  if a==b:\n",
        "    correct += 1"
      ],
      "metadata": {
        "id": "tGDNWkSF2q3c"
      },
      "execution_count": null,
      "outputs": []
    },
    {
      "cell_type": "code",
      "source": [
        "correct"
      ],
      "metadata": {
        "id": "l2Bhggdk27r9",
        "outputId": "3c4d8c42-43eb-4b12-c216-d14e99f28b48",
        "colab": {
          "base_uri": "https://localhost:8080/"
        }
      },
      "execution_count": null,
      "outputs": [
        {
          "output_type": "execute_result",
          "data": {
            "text/plain": [
              "1962"
            ]
          },
          "metadata": {},
          "execution_count": 20
        }
      ]
    },
    {
      "cell_type": "code",
      "source": [
        "len(y_test)"
      ],
      "metadata": {
        "id": "sD-xnEYg29Vv",
        "outputId": "8e5025bd-b1a8-4184-87ee-9003d4b18bce",
        "colab": {
          "base_uri": "https://localhost:8080/"
        }
      },
      "execution_count": null,
      "outputs": [
        {
          "output_type": "execute_result",
          "data": {
            "text/plain": [
              "2497"
            ]
          },
          "metadata": {},
          "execution_count": 21
        }
      ]
    },
    {
      "cell_type": "code",
      "source": [
        "correct/len(y_test)"
      ],
      "metadata": {
        "id": "34stvxu53BHR",
        "outputId": "cc71d29d-fcc5-4ea5-b7ab-7bf7040c189f",
        "colab": {
          "base_uri": "https://localhost:8080/"
        }
      },
      "execution_count": null,
      "outputs": [
        {
          "output_type": "execute_result",
          "data": {
            "text/plain": [
              "0.7857428914697637"
            ]
          },
          "metadata": {},
          "execution_count": 22
        }
      ]
    },
    {
      "cell_type": "code",
      "source": [
        "sklearn.metrics.accuracy_score(y_test, y_pred)"
      ],
      "metadata": {
        "id": "fFvl13TgMIfc",
        "outputId": "ea940b87-babe-469e-a876-e81a4c6057ce",
        "colab": {
          "base_uri": "https://localhost:8080/"
        }
      },
      "execution_count": null,
      "outputs": [
        {
          "output_type": "execute_result",
          "data": {
            "text/plain": [
              "0.7857428914697637"
            ]
          },
          "metadata": {},
          "execution_count": 18
        }
      ]
    },
    {
      "cell_type": "code",
      "source": [
        "sklearn.metrics.precision_score(y_test, y_pred, average=None)"
      ],
      "metadata": {
        "id": "ZhziGneG2cva",
        "outputId": "e9ac33c4-0342-4b37-8ef4-fde00799f137",
        "colab": {
          "base_uri": "https://localhost:8080/"
        }
      },
      "execution_count": null,
      "outputs": [
        {
          "output_type": "execute_result",
          "data": {
            "text/plain": [
              "array([0.80973451, 0.77459016, 0.7896679 , 0.62692308, 0.92276423,\n",
              "       0.78378378, 0.78571429, 0.85      , 0.64750958, 0.8907563 ])"
            ]
          },
          "metadata": {},
          "execution_count": 58
        }
      ]
    },
    {
      "cell_type": "code",
      "source": [
        "sklearn.metrics.recall_score(y_test, y_pred, average=None)"
      ],
      "metadata": {
        "id": "64JfjVc78zfY",
        "outputId": "93d57b61-0134-40c8-cf27-7e84cd3d994d",
        "colab": {
          "base_uri": "https://localhost:8080/"
        }
      },
      "execution_count": null,
      "outputs": [
        {
          "output_type": "execute_result",
          "data": {
            "text/plain": [
              "array([0.70930233, 0.71863118, 0.8359375 , 0.63178295, 0.91164659,\n",
              "       0.77186312, 0.81481481, 0.82926829, 0.78604651, 0.86178862])"
            ]
          },
          "metadata": {},
          "execution_count": 60
        }
      ]
    },
    {
      "cell_type": "code",
      "source": [
        "sklearn.metrics.f1_score(y_test, y_pred, average=None)"
      ],
      "metadata": {
        "id": "TnFYWaTM3WNk",
        "outputId": "4f1868c1-b1c7-4766-a68f-bee21f0c578e",
        "colab": {
          "base_uri": "https://localhost:8080/"
        }
      },
      "execution_count": null,
      "outputs": [
        {
          "output_type": "execute_result",
          "data": {
            "text/plain": [
              "array([0.75619835, 0.74556213, 0.81214421, 0.62934363, 0.91717172,\n",
              "       0.77777778, 0.8       , 0.83950617, 0.71008403, 0.87603306])"
            ]
          },
          "metadata": {},
          "execution_count": 53
        }
      ]
    },
    {
      "cell_type": "code",
      "source": [
        "sklearn.metrics.jaccard_score(y_test, y_pred, average = 'weighted')"
      ],
      "metadata": {
        "id": "oh8c-Z0G5S1A",
        "outputId": "c0db87bc-ab96-45ab-88c0-25783a89ad62",
        "colab": {
          "base_uri": "https://localhost:8080/"
        }
      },
      "execution_count": null,
      "outputs": [
        {
          "output_type": "execute_result",
          "data": {
            "text/plain": [
              "0.6547766647993974"
            ]
          },
          "metadata": {},
          "execution_count": 56
        }
      ]
    },
    {
      "cell_type": "code",
      "source": [
        "sklearn.metrics.recall_score(y_test, y_pred, average = 'macro')"
      ],
      "metadata": {
        "id": "tSnTCB5w77L_",
        "outputId": "bb11f8c1-c36c-4828-c653-dfbbb8db9fc2",
        "colab": {
          "base_uri": "https://localhost:8080/"
        }
      },
      "execution_count": null,
      "outputs": [
        {
          "output_type": "execute_result",
          "data": {
            "text/plain": [
              "0.7871081891252985"
            ]
          },
          "metadata": {},
          "execution_count": 57
        }
      ]
    },
    {
      "cell_type": "code",
      "source": [
        "mapping"
      ],
      "metadata": {
        "id": "aPauMxSg6-gv",
        "outputId": "959fd2f3-565a-417f-c334-e609b041d452",
        "colab": {
          "base_uri": "https://localhost:8080/"
        }
      },
      "execution_count": null,
      "outputs": [
        {
          "output_type": "execute_result",
          "data": {
            "text/plain": [
              "['reggae',\n",
              " 'disco',\n",
              " 'jazz',\n",
              " '.ipynb_checkpoints',\n",
              " 'rock',\n",
              " 'classical',\n",
              " 'hiphop',\n",
              " 'blues',\n",
              " 'pop',\n",
              " 'country',\n",
              " 'metal']"
            ]
          },
          "metadata": {},
          "execution_count": 42
        }
      ]
    },
    {
      "cell_type": "code",
      "source": [
        "genres = ['Reggae', 'Disco', 'Jazz', 'Rock', 'Classical', 'Hiphop', 'Blues', 'Pop', 'Country', 'Metal']\n",
        "\n",
        "acc_score = sklearn.metrics.accuracy_score(y_test, y_pred)\n",
        "j_score = sklearn.metrics.jaccard_score(y_test, y_pred, average = 'weighted')\n",
        "j_classes = sklearn.metrics.jaccard_score(y_test, y_pred, average = None)\n",
        "f1 = sklearn.metrics.f1_score(y_test, y_pred, average='weighted')\n",
        "f1_classes = sklearn.metrics.f1_score(y_test, y_pred, average=None)\n",
        "precision = sklearn.metrics.precision_score(y_test, y_pred, average='weighted')\n",
        "precision_classes = sklearn.metrics.precision_score(y_test, y_pred, average=None)\n",
        "recall = sklearn.metrics.recall_score(y_test, y_pred, average='weighted')\n",
        "recall_classes = sklearn.metrics.recall_score(y_test, y_pred, average=None)\n",
        "\n"
      ],
      "metadata": {
        "id": "u1YkKo837XKH"
      },
      "execution_count": null,
      "outputs": []
    },
    {
      "cell_type": "code",
      "source": [
        "print(\"Model Accuracy Metric: -\")\n",
        "\n",
        "print(f\"Total Accuracy Score              :  {acc_score}\" )\n",
        "print(f\"Weighted Average Jaccard Score    :  {j_score}\" )\n",
        "print(f\"Weighted Average F1 Score         :  {f1}\" )\n",
        "print(f\"Weighted Average Precision Score  :  {precision}\" )\n",
        "print(f\"Weighted Average Recall Score     :  {recall}\" )"
      ],
      "metadata": {
        "id": "8cBzI0oUHcMT",
        "outputId": "cceac3fb-686a-4190-8230-74b60868fdac",
        "colab": {
          "base_uri": "https://localhost:8080/"
        }
      },
      "execution_count": null,
      "outputs": [
        {
          "output_type": "stream",
          "name": "stdout",
          "text": [
            "Model Accuracy Metric: -\n",
            "Total Accuracy Score              :  0.7857428914697637\n",
            "Weighted Average Jaccard Score    :  0.6547766647993974\n",
            "Weighted Average F1 Score         :  0.786337052332904\n",
            "Weighted Average Precision Score  :  0.789268106523539\n",
            "Weighted Average Recall Score     :  0.7857428914697637\n"
          ]
        }
      ]
    },
    {
      "cell_type": "code",
      "source": [
        "j_classes"
      ],
      "metadata": {
        "id": "tEpi3w5bAN2A",
        "outputId": "b824d2e6-4356-487d-d6d7-dbfab45cff1c",
        "colab": {
          "base_uri": "https://localhost:8080/"
        }
      },
      "execution_count": null,
      "outputs": [
        {
          "output_type": "execute_result",
          "data": {
            "text/plain": [
              "array([0.60797342, 0.59433962, 0.68370607, 0.45915493, 0.84701493,\n",
              "       0.63636364, 0.66666667, 0.72340426, 0.5504886 , 0.77941176])"
            ]
          },
          "metadata": {},
          "execution_count": 70
        }
      ]
    },
    {
      "cell_type": "code",
      "source": [
        "plt.figure(figsize=(10,6))\n",
        "plt.plot(genres, j_classes, label=\"Jacccard Score\")\n",
        "plt.plot(genres, f1_classes, label=\"F1 Score\")\n",
        "\n",
        "plt.ylim(0, 1)\n",
        "plt.xlabel(\"Genre\")\n",
        "plt.ylabel(\"Accuracy\")\n",
        "plt.title('Accuracy Metrics')\n",
        "plt.legend(loc=\"lower right\")\n",
        "plt.show()"
      ],
      "metadata": {
        "id": "78FkEtsE_acz",
        "outputId": "669e6b21-f7c9-4bc9-9adc-2e6ba5225482",
        "colab": {
          "base_uri": "https://localhost:8080/",
          "height": 404
        }
      },
      "execution_count": null,
      "outputs": [
        {
          "output_type": "display_data",
          "data": {
            "text/plain": [
              "<Figure size 720x432 with 1 Axes>"
            ],
            "image/png": "[encoded data removed]"
          },
          "metadata": {
            "needs_background": "light"
          }
        }
      ]
    },
    {
      "cell_type": "code",
      "source": [
        "plt.figure(figsize=(10,6))\n",
        "plt.plot(genres, precision_classes, label=\"Precison Score\")\n",
        "plt.plot(genres, recall_classes, label=\"Recall Score\")\n",
        "\n",
        "plt.ylim(0, 1)\n",
        "plt.xlabel(\"Genre\")\n",
        "plt.ylabel(\"Accuracy\")\n",
        "plt.title('Precision-Recall Graph')\n",
        "plt.legend(loc=\"lower right\")\n",
        "plt.show()"
      ],
      "metadata": {
        "id": "CN0l0fOuHJJ2",
        "outputId": "1053c452-d8b9-4f00-a0e6-77b38b70941e",
        "colab": {
          "base_uri": "https://localhost:8080/",
          "height": 404
        }
      },
      "execution_count": null,
      "outputs": [
        {
          "output_type": "display_data",
          "data": {
            "text/plain": [
              "<Figure size 720x432 with 1 Axes>"
            ],
            "image/png": "[encoded data removed]"
          },
          "metadata": {
            "needs_background": "light"
          }
        }
      ]
    }
  ]
}